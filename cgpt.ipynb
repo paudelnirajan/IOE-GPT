{
 "cells": [
  {
   "cell_type": "code",
   "execution_count": 8,
   "metadata": {},
   "outputs": [],
   "source": [
    "from dotenv import load_dotenv\n",
    "import os\n",
    "\n",
    "load_dotenv()\n",
    "LANGSMITH_API_KEY = os.getenv(\"LANGSMITH_API_KEY\")\n",
    "\n",
    "if LANGSMITH_API_KEY:\n",
    "    os.environ[\"LANGSMITH_API_KEY\"] = LANGSMITH_API_KEY\n",
    "    os.environ[\"LANGSMITH_TRACING\"] = \"true\"\n",
    "else:\n",
    "    raise ValueError(\"LANGSMITH_API_KEY not found in environment variables\")"
   ]
  },
  {
   "cell_type": "code",
   "execution_count": 65,
   "metadata": {},
   "outputs": [],
   "source": [
    "# just for reference\n",
    "\n",
    "# C_PROGRAMMING_TOPICS = [\n",
    "#     \"programming_fundamentals\", \n",
    "#     \"algorithm_and_flowchart\", \n",
    "#     \"introduction_c_programming\", \n",
    "#     \"data_and_expressions\", \n",
    "#     \"input_output\", \n",
    "#     \"control_structures\", \n",
    "#     \"arrays_strings_pointers\", \n",
    "#     \"functions\", \n",
    "#     \"structures\", \n",
    "#     \"file_handling\", \n",
    "#     \"oop_overview\"\n",
    "# ]"
   ]
  },
  {
   "cell_type": "code",
   "execution_count": 29,
   "metadata": {},
   "outputs": [],
   "source": [
    "from typing import Literal, Optional, List, Tuple \n",
    "from pydantic import BaseModel, Field\n",
    "\n",
    "class QuestionSearch(BaseModel):\n",
    "    \"\"\"Search over the json file about the question of particular year or some particular metadata... .\"\"\"\n",
    "\n",
    "    id: Optional[str] = Field(\n",
    "        None, # Default to None for optional fields\n",
    "        description=\"ID of a particular question. Will hold a value like 'subject_code+question_number'.\"\n",
    "    )\n",
    "\n",
    "    subject: Literal[\"computer programming\"] = Field(\n",
    "        description=\"Subject the question belongs to.\"\n",
    "    )\n",
    "\n",
    "    # Modified to accept list of years\n",
    "    year_ad: Optional[List[int]] = Field(\n",
    "        None,\n",
    "        description=\"List of years in AD that the questions appeared.\"\n",
    "    )\n",
    "\n",
    "    year_bs: Optional[List[int]] = Field(\n",
    "        None,\n",
    "        description=\"List of years in BS that the questions appeared.\"\n",
    "    )\n",
    "\n",
    "    question_text: Optional[str] = Field( # Added field for searching question text\n",
    "        None,\n",
    "        description=\"Keywords or full text to search within the question itself.\"\n",
    "    )\n",
    "\n",
    "    type: Optional[Literal[\"theory\", \"programming\"]] = Field( \n",
    "        None,\n",
    "        description=\"Type of the question.\" \n",
    "    )\n",
    "\n",
    "    format: Optional[Literal[\"short\", \"long\"]] = Field(\n",
    "        None,\n",
    "        description=\"Format of the question (e.g., short answer, long answer).\" \n",
    "    )\n",
    "\n",
    "    marks: Optional[int] = Field(\n",
    "        None,\n",
    "        description=\"Marks allocated to the question being searched.\"\n",
    "    )\n",
    "\n",
    "    topic: Optional[Literal[\"programming_fundamentals\", \"algorithm_and_flowchart\", \"introduction_c_programming\", \"data_and_expressions\", \"input_output\", \"control_structures\", \"arrays_strings_pointers\", \"functions\", \"structures\", \"file_handling\", \"oop_overview\"]] = Field(\n",
    "        None,\n",
    "        description=\"Topic that the question is from.\"\n",
    "    )\n",
    "\n",
    "    unit: Optional[int] = Field(\n",
    "        None,\n",
    "        description=\"Unit the question is from.\"\n",
    "    )\n",
    "\n",
    "    question_number: Optional[str] = Field(\n",
    "        None,\n",
    "        description=\"Question number (e.g., '1a', '2b', 4, 5).\"\n",
    "    )\n",
    "\n",
    "    source: Optional[Literal[\"regular\", \"back\"]] = Field(\n",
    "        None,\n",
    "        description=\"Source exam type (regular or back paper).\" \n",
    "    )\n",
    "\n",
    "    semester: Optional[Literal[\"first\", \"second\", \"third\", \"fourth\", \"fifth\", \"sixth\", \"seventh\", \"eighth\"]] = Field(\n",
    "         None,\n",
    "         description=\"Semester the question is for.\" \n",
    "    )\n",
    "\n"
   ]
  },
  {
   "cell_type": "code",
   "execution_count": 30,
   "metadata": {},
   "outputs": [],
   "source": [
    "from langchain_groq import ChatGroq\n",
    "from dotenv import load_dotenv\n",
    "import os\n",
    "\n",
    "load_dotenv()\n",
    "\n",
    "try:\n",
    "    groq_api_key = os.getenv(\"GROQ_API_KEY\")\n",
    "    if not groq_api_key:\n",
    "        raise ValueError(\"GROQ_API_KEY not found in environment variables\")\n",
    "\n",
    "    llm = ChatGroq(\n",
    "        api_key=groq_api_key,\n",
    "        model=\"llama-3.3-70b-versatile\", \n",
    "        temperature=0.7,                 \n",
    "        max_tokens=8192                  \n",
    "    )\n",
    "except Exception as e:\n",
    "    raise Exception(f\"Failed to initialize ChatGroq: {str(e)}\")"
   ]
  },
  {
   "cell_type": "markdown",
   "metadata": {},
   "source": [
    "### Structured Question Output"
   ]
  },
  {
   "cell_type": "code",
   "execution_count": 31,
   "metadata": {},
   "outputs": [],
   "source": [
    "from langchain_core.prompts import ChatPromptTemplate\n",
    "\n",
    "system = \"\"\"You are an expert at converting user questions about past exam papers into structured JSON queries.\n",
    "You have access to a database (JSON file) containing information about past exam questions for subjects like Computer Programming, Mathematics, and Digital Logic from various years and semesters.\n",
    "Given a user's question, your goal is to construct a JSON query object that conforms to the `QuestionSearch` schema to retrieve the most relevant question(s) from the database.\n",
    "\n",
    "When users mention multiple years, collect them into a list. For example:\n",
    "- \"questions from 2075, 2076 BS\" → year_bs: [2075, 2076]\n",
    "- \"questions before year 2076\" → year_bs: [2075, 2076] (DO NOT provide year before 2075)\n",
    "\n",
    "You must identify key information in the user's request, such as:\n",
    "- Subject name (e.g., \"computer programming\")\n",
    "- Year (Specify BS or AD, e.g., \"2080 BS\", \"2023 AD\")\n",
    "- Question type (\"theory\" or \"programming\")\n",
    "- Question format (\"short\" or \"long\")\n",
    "- Marks\n",
    "- Topic\n",
    "- Unit number\n",
    "- Question number (e.g., \"1a\", \"5b\")\n",
    "- Source (\"regular\" or \"back\" exam)\n",
    "- Semester (\"first\", \"second\", etc.)\n",
    "- Keywords within the question text itself.\n",
    "\n",
    "Map this extracted information accurately to the corresponding fields in the `QuestionSearch` JSON schema.\n",
    "- Pay close attention to the required fields and the allowed values for fields with `Literal` types (like `subject`, `type`, `format`, `source`, `semester`).\n",
    "- Use `null` or omit optional fields if the information is not provided in the user's query.\n",
    "- Do not invent information or assume details not explicitly stated by the user.\n",
    "- If the user uses specific terms, acronyms, or numbers, preserve them accurately in the query values.\n",
    "\"\"\"\n",
    "\n",
    "prompt = ChatPromptTemplate.from_messages(\n",
    "    [\n",
    "        (\"system\", system),\n",
    "        (\"human\", \"{question}\"),\n",
    "    ]\n",
    ")\n",
    "structured_llm = llm.with_structured_output(QuestionSearch)\n",
    "structured_chain = prompt | structured_llm\n",
    "# structured_chain"
   ]
  },
  {
   "cell_type": "markdown",
   "metadata": {},
   "source": [
    "#### Data Loading"
   ]
  },
  {
   "cell_type": "code",
   "execution_count": 13,
   "metadata": {},
   "outputs": [],
   "source": [
    "from langchain_community.document_loaders import JSONLoader\n",
    "\n",
    "loader = JSONLoader(\n",
    "    file_path=\"formatted_data/c_question.json\",\n",
    "    jq_schema=\".[]\",\n",
    "    text_content=False,\n",
    ")\n",
    "docs = loader.load()"
   ]
  },
  {
   "cell_type": "markdown",
   "metadata": {},
   "source": [
    "#### Vector Store"
   ]
  },
  {
   "cell_type": "code",
   "execution_count": null,
   "metadata": {},
   "outputs": [],
   "source": [
    "from langchain_huggingface import HuggingFaceEmbeddings\n",
    "from langchain_core.vectorstores import InMemoryVectorStore\n",
    "\n",
    "embeddings = HuggingFaceEmbeddings(model_name=\"all-MiniLM-L6-v2\")\n",
    "vector_store = InMemoryVectorStore(embedding=embeddings)\n",
    "\n",
    "_ = vector_store.add_documents(docs)"
   ]
  },
  {
   "cell_type": "code",
   "execution_count": null,
   "metadata": {},
   "outputs": [],
   "source": [
    "# vector_store.similarity_search(\"algorithms and flowchart.\")"
   ]
  },
  {
   "cell_type": "markdown",
   "metadata": {},
   "source": [
    "### try::"
   ]
  },
  {
   "cell_type": "code",
   "execution_count": 91,
   "metadata": {},
   "outputs": [],
   "source": [
    "def create_dynamic_filter(query_result: QuestionSearch) -> dict:\n",
    "    filter_dict = {}\n",
    "    \n",
    "    print(f\"[INFO]\\n ---------------\\n{query_result.model_dump().items()}\\n---------------\\n\")\n",
    "    for field_name, value in query_result.model_dump().items():\n",
    "        if value is not None:\n",
    "            # Special handling for case-insensitive subject matching\n",
    "            if field_name == 'subject':\n",
    "                filter_dict[field_name] = value.lower()\n",
    "            elif field_name in ['year_ad', 'year_bs'] and isinstance(value, list):\n",
    "                # For year fields, create an \"OR\" condition\n",
    "                if value:  # Only if the list is not empty\n",
    "                    filter_dict[field_name] = {\"$in\": value}  # Using $in operator for list matching\n",
    "            # Handle list type fields (like tags) if needed        \n",
    "            elif isinstance(value, list):\n",
    "                if value:  # Only add if list is not empty\n",
    "                    filter_dict[field_name] = value\n",
    "            else:\n",
    "                filter_dict[field_name] = value\n",
    "    \n",
    "    return filter_dict\n",
    "\n",
    "def get_filtered_questions(question: str, k: int = 5):\n",
    "    \"\"\"\n",
    "    Get filtered questions based on the user's natural language query.\n",
    "    \n",
    "    Args:\n",
    "        question: Natural language question from user\n",
    "        k: Maximum number of results to retrieve\n",
    "    \n",
    "    Returns:\n",
    "        List of relevant documents that match the filter criteria exactly\n",
    "    \"\"\"\n",
    "    # Get structured query from the chain\n",
    "    query_result = structured_chain.invoke({\"question\": question})\n",
    "    \n",
    "    # Create dynamic filter\n",
    "    filter_dict = create_dynamic_filter(query_result)\n",
    "    \n",
    "    print(f\"[INFO] -> FILTER DICTIONARY \\n{filter_dict}\\n ----------------\\n\")\n",
    "    \n",
    "    # Create retriever with the filter\n",
    "    retriever = vector_store.as_retriever(\n",
    "        search_kwargs={'k': k},\n",
    "        filter=filter_dict\n",
    "    )\n",
    "    \n",
    "    # Get results\n",
    "    results = retriever.invoke(question)\n",
    "    \n",
    "    filtered_results = []\n",
    "    for doc in results:\n",
    "        doc_content = json.loads(doc.page_content)\n",
    "        print(f\"[INFO] -------- doc------ \\n{doc} \\n ----------\")\n",
    "        # Modified matching logic to handle lists\n",
    "        matches_all_criteria = True\n",
    "        for key, value in filter_dict.items():\n",
    "            if key in ['year_ad', 'year_bs']:\n",
    "                if isinstance(value, dict) and '$in' in value:\n",
    "                    # Check if document's year is in the list of years\n",
    "                    if doc_content.get(key) not in value['$in']:\n",
    "                        matches_all_criteria = False\n",
    "                        break\n",
    "            else:\n",
    "                # Regular matching for other fields\n",
    "                if str(doc_content.get(key, '')).lower() != str(value).lower():\n",
    "                    matches_all_criteria = False\n",
    "                    break\n",
    "        \n",
    "        if matches_all_criteria:\n",
    "            filtered_results.append(doc)\n",
    "    \n",
    "    return filtered_results\n",
    "\n",
    "import json\n",
    "# Usage example:\n",
    "def display_filtered_questions(question: str, k: int = 5):\n",
    "    \"\"\"\n",
    "    Display filtered questions with their content.\n",
    "    \n",
    "    Args:\n",
    "        question: Natural language question from user\n",
    "        k: Maximum number of results to retrieve\n",
    "    \"\"\"\n",
    "    results = get_filtered_questions(question, k)\n",
    "    \n",
    "    if not results:\n",
    "        print(\"No documents found matching the specified criteria.\")\n",
    "        return\n",
    "    \n",
    "    print(f\"\\nFound {len(results)} matching documents:\")\n",
    "    for i, doc in enumerate(results, 1):\n",
    "        # Parse the JSON string into a dictionary\n",
    "        doc_content = json.loads(doc.page_content)\n",
    "        # Now we can access the \"question\" field\n",
    "        print(f\"\\n{i}. {doc_content['question']}\")"
   ]
  },
  {
   "cell_type": "code",
   "execution_count": null,
   "metadata": {},
   "outputs": [],
   "source": [
    "# Example usage\n",
    "results = display_filtered_questions(\"List questions asked from year 2079\")"
   ]
  },
  {
   "cell_type": "code",
   "execution_count": null,
   "metadata": {},
   "outputs": [],
   "source": []
  },
  {
   "cell_type": "code",
   "execution_count": null,
   "metadata": {},
   "outputs": [],
   "source": []
  },
  {
   "cell_type": "code",
   "execution_count": null,
   "metadata": {},
   "outputs": [],
   "source": []
  },
  {
   "cell_type": "code",
   "execution_count": null,
   "metadata": {},
   "outputs": [],
   "source": []
  },
  {
   "cell_type": "code",
   "execution_count": null,
   "metadata": {},
   "outputs": [],
   "source": []
  },
  {
   "cell_type": "code",
   "execution_count": null,
   "metadata": {},
   "outputs": [],
   "source": []
  },
  {
   "cell_type": "code",
   "execution_count": null,
   "metadata": {},
   "outputs": [],
   "source": []
  },
  {
   "cell_type": "code",
   "execution_count": null,
   "metadata": {},
   "outputs": [],
   "source": []
  },
  {
   "cell_type": "code",
   "execution_count": null,
   "metadata": {},
   "outputs": [],
   "source": []
  },
  {
   "cell_type": "code",
   "execution_count": null,
   "metadata": {},
   "outputs": [],
   "source": []
  },
  {
   "cell_type": "code",
   "execution_count": null,
   "metadata": {},
   "outputs": [],
   "source": []
  },
  {
   "cell_type": "code",
   "execution_count": null,
   "metadata": {},
   "outputs": [],
   "source": [
    "# # let's define a tool for retrieving data using similarity search\n",
    "# from langchain.tools import tool\n",
    "\n",
    "# @tool\n",
    "# def c_past_questions(\n",
    "#     id: Optional[str] = None,\n",
    "#     # XXX defaults to computer programming for now, change later...\n",
    "#     subject: Literal[\"computer programming\", \"mathematics\", \"digital logic\"] = \"computer programming\",\n",
    "#     year_ad: Optional[int] = None,\n",
    "#     year_bs: Optional[int] = None,\n",
    "#     question_text: Optional[str] = None,\n",
    "#     type: Optional[Literal[\"theory\", \"programming\"]] = None,\n",
    "#     format: Optional[Literal[\"short\", \"long\"]] = None,\n",
    "#     marks: Optional[int] = None,\n",
    "#     topic: Optional[Literal[\"programming_fundamentals\", \"algorithm_and_flowchart\", \"introduction_c_programming\", \n",
    "#                           \"data_and_expressions\", \"input_output\", \"control_structures\", \"arrays_strings_pointers\", \n",
    "#                           \"functions\", \"structures\", \"file_handling\", \"oop_overview\"]] = None,\n",
    "#     unit: Optional[int] = None,\n",
    "#     tags: Optional[List[str]] = None,\n",
    "#     question_number: Optional[str] = None,\n",
    "#     source: Optional[Literal[\"regular\", \"back\"]] = None,\n",
    "#     semester: Optional[Literal[\"first\", \"second\", \"third\", \"fourth\", \"fifth\", \"sixth\", \"seventh\", \"eighth\"]] = None\n",
    "# ) -> List[dict]:\n",
    "#     \"\"\"\n",
    "#     Search for computer programming questions with the given criteria.\n",
    "    \n",
    "#     Args:\n",
    "#         id: ID of a particular question (e.g., 'subject_code+question_number')\n",
    "#         subject: Subject the question belongs to (defaults to \"computer programming\")\n",
    "#         year_ad: Year in AD that the question appeared\n",
    "#         year_bs: Year in BS that the question appeared\n",
    "#         question_text: Keywords or full text to search within the question itself\n",
    "#         type: Type of the question (theory or programming)\n",
    "#         format: Format of the question (short or long)\n",
    "#         marks: Marks allocated to the question\n",
    "#         topic: Topic that the question is from\n",
    "#         unit: Unit the question is from\n",
    "#         tags: List of tags associated with the question\n",
    "#         question_number: Question number (e.g., '1a', '2b', 4, 5)\n",
    "#         source: Source exam type (regular or back paper)\n",
    "#         semester: Semester the question is for\n",
    "    \n",
    "#     Returns:\n",
    "#         List[dict]: List of matching questions with their metadata\n",
    "#     \"\"\"\n",
    "#     pass"
   ]
  },
  {
   "cell_type": "code",
   "execution_count": null,
   "metadata": {},
   "outputs": [],
   "source": []
  },
  {
   "cell_type": "code",
   "execution_count": null,
   "metadata": {},
   "outputs": [],
   "source": []
  },
  {
   "cell_type": "code",
   "execution_count": null,
   "metadata": {},
   "outputs": [],
   "source": []
  },
  {
   "cell_type": "code",
   "execution_count": null,
   "metadata": {},
   "outputs": [],
   "source": []
  },
  {
   "cell_type": "code",
   "execution_count": null,
   "metadata": {},
   "outputs": [],
   "source": []
  },
  {
   "cell_type": "code",
   "execution_count": null,
   "metadata": {},
   "outputs": [],
   "source": []
  },
  {
   "cell_type": "markdown",
   "metadata": {},
   "source": [
    "# Creating Vector Store"
   ]
  },
  {
   "cell_type": "code",
   "execution_count": 26,
   "metadata": {},
   "outputs": [
    {
     "name": "stdout",
     "output_type": "stream",
     "text": [
      "Total number of documents: 111\n",
      "\n",
      "First document example:\n",
      "Page content: Write a program to define a structure named Person with Name, address, salary as its member. Enter values for five persons. Pass the structure to a function which increases the salary by 15% each. Display the updated information in the main() function.\n",
      "Metadata: {'id': 'CT401_6b', 'subject': 'computer Programming', 'year_bs': 2075, 'year_ad': 2019, 'type': 'programming', 'format': 'long', 'marks': 7, 'topic': 'structures', 'unit': 8, 'question_number': '6b', 'source': 'regular', 'semester': 'first'}\n"
     ]
    }
   ],
   "source": [
    "import json\n",
    "from langchain.schema import Document\n",
    "\n",
    "# First, read the JSON file\n",
    "def load_json_data(file_path):\n",
    "    with open(file_path, 'r', encoding='utf-8') as file:\n",
    "        return json.load(file)\n",
    "\n",
    "def create_documents_from_json(json_data):\n",
    "    docs = []\n",
    "    for item in json_data:\n",
    "        # Create metadata dictionary excluding the 'question' field\n",
    "        metadata = {k: v for k, v in item.items() if (k != 'question' and k != 'tags')}\n",
    "        \n",
    "        # Create Document object\n",
    "        doc = Document(\n",
    "            page_content=item['question'],\n",
    "            metadata=metadata\n",
    "        )\n",
    "        docs.append(doc)\n",
    "    return docs\n",
    "\n",
    "# Usage:\n",
    "file_path = 'formatted_data/c_question.json'  # path to your JSON file\n",
    "json_data = load_json_data(file_path)\n",
    "docs = create_documents_from_json(json_data)\n",
    "\n",
    "# Verify the results\n",
    "print(f\"Total number of documents: {len(docs)}\")\n",
    "print(\"\\nFirst document example:\")\n",
    "print(f\"Page content: {docs[110].page_content}\")\n",
    "print(f\"Metadata: {docs[110].metadata}\")"
   ]
  },
  {
   "cell_type": "code",
   "execution_count": 27,
   "metadata": {},
   "outputs": [],
   "source": [
    "from langchain_huggingface import HuggingFaceEmbeddings\n",
    "from langchain.vectorstores import Milvus\n",
    "\n",
    "embeddings = HuggingFaceEmbeddings(\n",
    "    model_name=\"sentence-transformers/all-MiniLM-L6-v2\"\n",
    ")\n",
    "\n",
    "# Connect to Milvus and store documents\n",
    "vector_store = Milvus.from_documents(\n",
    "    docs,\n",
    "    embedding=embeddings,\n",
    "    connection_args={\n",
    "        \"host\": \"127.0.0.1\",\n",
    "        \"port\": \"19530\"\n",
    "    },\n",
    "    collection_name=\"ioe_c_past_questions\"  # You can choose any collection name\n",
    ")"
   ]
  },
  {
   "cell_type": "code",
   "execution_count": 28,
   "metadata": {},
   "outputs": [
    {
     "name": "stdout",
     "output_type": "stream",
     "text": [
      "What is pointer? Discuss its relationship with an array. Write a function program that behaves strcpy() function using pointer as argument.\n",
      "{'id': 458006860052038284, 'subject': 'computer Programming', 'year_bs': 2076, 'year_ad': 2020, 'type': 'programming', 'format': 'long', 'marks': 8, 'topic': 'arrays_strings_pointers', 'unit': 6, 'question_number': '8', 'source': 'regular', 'semester': 'first', 'pk': 458006860052038284}\n",
      "What is pointer? Discuss its relationship with an array. Write a function program that behaves strcpy() function using pointer as argument.\n",
      "{'id': 458006860052038732, 'subject': 'computer Programming', 'year_bs': 2076, 'year_ad': 2020, 'type': 'programming', 'format': 'long', 'marks': 8, 'topic': 'arrays_strings_pointers', 'unit': 6, 'question_number': '8', 'source': 'regular', 'semester': 'first', 'pk': 458006860052038732}\n",
      "What are pointer arithmetic? Explain with example. Write a C program that uses pointer to read mxn matrix from user. Pass it to function that finds the transpose of the matrix.\n",
      "{'id': 458006860052038661, 'subject': 'computer Programming', 'year_bs': 2080, 'year_ad': 2023, 'type': 'programming', 'format': 'long', 'marks': 8, 'topic': 'arrays_strings_pointers', 'unit': 6, 'question_number': '7', 'source': 'back', 'semester': 'first', 'pk': 458006860052038661}\n"
     ]
    }
   ],
   "source": [
    "results = vector_store.similarity_search(\"what is pointer\", k=3)\n",
    "for result in results:\n",
    "    print(result.page_content)\n",
    "    print(result.metadata)"
   ]
  },
  {
   "cell_type": "code",
   "execution_count": null,
   "metadata": {},
   "outputs": [],
   "source": []
  },
  {
   "cell_type": "code",
   "execution_count": null,
   "metadata": {},
   "outputs": [],
   "source": []
  },
  {
   "cell_type": "code",
   "execution_count": null,
   "metadata": {},
   "outputs": [],
   "source": []
  },
  {
   "cell_type": "code",
   "execution_count": 6,
   "metadata": {},
   "outputs": [
    {
     "data": {
      "image/png": "[encoded data removed]",
      "text/plain": [
       "<IPython.core.display.Image object>"
      ]
     },
     "metadata": {},
     "output_type": "display_data"
    }
   ],
   "source": [
    "from IPython.display import Image, display\n",
    "from langgraph.graph import StateGraph\n",
    "from Graph.tools.c_programming_tool import get_past_questions\n",
    "from core.assistant import Assistant, create_tool_node_with_fallback\n",
    "from core.state import State\n",
    "from Graph.assistants.c_programing_agent import get_c_programming_runnable\n",
    "from langgraph.graph import START, END \n",
    "from Graph.routes.c_programming_router import agent_router\n",
    "from langgraph.checkpoint.memory import MemorySaver\n",
    "\n",
    "builder = StateGraph(State)\n",
    "\n",
    "builder.add_node(\"c_programming_assistant\", Assistant(get_c_programming_runnable()))\n",
    "builder.add_node(\"get_past_questions_tool\", create_tool_node_with_fallback([get_past_questions]))\n",
    "\n",
    "builder.add_edge(START, \"c_programming_assistant\")\n",
    "builder.add_conditional_edges(\n",
    "    \"c_programming_assistant\", \n",
    "    agent_router,\n",
    "    [\n",
    "        \"get_past_questions_tool\",\n",
    "        END\n",
    "    ]\n",
    "    )\n",
    "\n",
    "builder.add_edge(\"get_past_questions_tool\", \"c_programming_assistant\")\n",
    "\n",
    "memory = MemorySaver()\n",
    "\n",
    "graph = builder.compile(checkpointer=memory)\n",
    "\n",
    "\n",
    "try:\n",
    "    display(Image(graph.get_graph(xray=True).draw_mermaid_png()))\n",
    "except Exception:\n",
    "    # This requires some extra dependencies and is optional\n",
    "    pass"
   ]
  },
  {
   "cell_type": "code",
   "execution_count": 7,
   "metadata": {},
   "outputs": [
    {
     "name": "stdout",
     "output_type": "stream",
     "text": [
      "Error occurred: 'get_past_questions'\n",
      "\n",
      "Detailed error:\n",
      "Traceback (most recent call last):\n",
      "  File \"/var/folders/jm/g978mxy128vghxxjgmlf7cfc0000gn/T/ipykernel_42174/2083283969.py\", line 20, in <module>\n",
      "    result = graph.invoke(\n",
      "             ^^^^^^^^^^^^^\n",
      "  File \"/Users/nirajanpaudel17/miniconda3/envs/cgpt/lib/python3.11/site-packages/langgraph/pregel/__init__.py\", line 2823, in invoke\n",
      "    for chunk in self.stream(\n",
      "  File \"/Users/nirajanpaudel17/miniconda3/envs/cgpt/lib/python3.11/site-packages/langgraph/pregel/__init__.py\", line 2461, in stream\n",
      "    for _ in runner.tick(\n",
      "  File \"/Users/nirajanpaudel17/miniconda3/envs/cgpt/lib/python3.11/site-packages/langgraph/graph/branch.py\", line 174, in _route\n",
      "    return self._finish(writer, input, result, config)\n",
      "           ^^^^^^^^^^^^^^^^^^^^^^^^^^^^^^^^^^^^^^^^^^^\n",
      "  File \"/Users/nirajanpaudel17/miniconda3/envs/cgpt/lib/python3.11/site-packages/langgraph/graph/branch.py\", line 209, in _finish\n",
      "    destinations: Sequence[Union[Send, str]] = [\n",
      "                                               ^\n",
      "  File \"/Users/nirajanpaudel17/miniconda3/envs/cgpt/lib/python3.11/site-packages/langgraph/graph/branch.py\", line 210, in <listcomp>\n",
      "    r if isinstance(r, Send) else self.ends[r] for r in result\n",
      "                                  ~~~~~~~~~^^^\n",
      "KeyError: 'get_past_questions'\n",
      "During task with name 'c_programming_assistant' and id '0eb53d17-be0e-cf1c-2ee7-066bc45c8d6d'\n",
      "\n"
     ]
    }
   ],
   "source": [
    "from langchain_core.messages import HumanMessage\n",
    "from langgraph.graph import START, END\n",
    "\n",
    "# Create initial state with the correct format\n",
    "initial_state = {\n",
    "    \"messages\": [HumanMessage(content=\"Show me some questions about arrays from 2079\")],\n",
    "    \"query\": \"Show me some questions about arrays from 2079\"\n",
    "}\n",
    "\n",
    "# Create the configuration with the correct format\n",
    "config = {\n",
    "    \"configurable\": {\n",
    "        \"thread_id\": \"123\"\n",
    "    },\n",
    "    \"recursion_limit\": 25  # Add a recursion limit to prevent infinite loops\n",
    "}\n",
    "\n",
    "# Run the graph with the correct configuration\n",
    "try:\n",
    "    result = graph.invoke(\n",
    "        initial_state,\n",
    "        config=config\n",
    "    )\n",
    "    \n",
    "    # Print the results\n",
    "    print(\"Final messages:\")\n",
    "    for message in result[\"messages\"]:\n",
    "        print(f\"\\n{message.type}: {message.content}\")\n",
    "        \n",
    "except Exception as e:\n",
    "    print(f\"Error occurred: {str(e)}\")\n",
    "    # Print more detailed error information\n",
    "    import traceback\n",
    "    print(\"\\nDetailed error:\")\n",
    "    print(traceback.format_exc())"
   ]
  },
  {
   "cell_type": "code",
   "execution_count": null,
   "metadata": {},
   "outputs": [],
   "source": []
  },
  {
   "cell_type": "code",
   "execution_count": null,
   "metadata": {},
   "outputs": [],
   "source": []
  },
  {
   "cell_type": "code",
   "execution_count": null,
   "metadata": {},
   "outputs": [],
   "source": []
  },
  {
   "cell_type": "code",
   "execution_count": null,
   "metadata": {},
   "outputs": [],
   "source": []
  },
  {
   "cell_type": "code",
   "execution_count": null,
   "metadata": {},
   "outputs": [],
   "source": []
  },
  {
   "cell_type": "code",
   "execution_count": null,
   "metadata": {},
   "outputs": [],
   "source": []
  },
  {
   "cell_type": "code",
   "execution_count": null,
   "metadata": {},
   "outputs": [],
   "source": []
  },
  {
   "cell_type": "code",
   "execution_count": null,
   "metadata": {},
   "outputs": [],
   "source": []
  },
  {
   "cell_type": "code",
   "execution_count": null,
   "metadata": {},
   "outputs": [],
   "source": []
  }
 ],
 "metadata": {
  "kernelspec": {
   "display_name": "cgpt",
   "language": "python",
   "name": "python3"
  },
  "language_info": {
   "codemirror_mode": {
    "name": "ipython",
    "version": 3
   },
   "file_extension": ".py",
   "mimetype": "text/x-python",
   "name": "python",
   "nbconvert_exporter": "python",
   "pygments_lexer": "ipython3",
   "version": "3.11.11"
  }
 },
 "nbformat": 4,
 "nbformat_minor": 2
}
